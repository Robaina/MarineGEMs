{
 "cells": [
  {
   "cell_type": "code",
   "execution_count": 1,
   "metadata": {},
   "outputs": [],
   "source": [
    "import cobra\n",
    "\n",
    "oripro = cobra.io.read_sbml_model(\"photosynthesizers/iSO595v7.xml\")"
   ]
  },
  {
   "cell_type": "code",
   "execution_count": 37,
   "metadata": {},
   "outputs": [],
   "source": [
    "import pandas as pd\n",
    "\n",
    "# Create a list to store the exchange IDs and exchange names\n",
    "exchange_data = []\n",
    "\n",
    "# Iterate over the exchange reactions in oripro\n",
    "for exchange in oripro.exchanges:\n",
    "    exchange_data.append([exchange.id, exchange.name])\n",
    "\n",
    "# Create a DataFrame from the exchange data\n",
    "df_ori = pd.DataFrame(exchange_data, columns=['Exchange ID', 'Exchange Name'])\n",
    "\n",
    "# Remove the row with ID \"StrontiumEX\"\n",
    "df_ori = df_ori[df_ori['Exchange ID'] != 'StrontiumEX']\n",
    "df_ori = df_ori.reset_index(drop=True)\n",
    "\n",
    "# Write the DataFrame to a TSV file\n",
    "df_ori.to_csv('exchange_data_ori.tsv', sep='\\t', index=False)"
   ]
  },
  {
   "cell_type": "code",
   "execution_count": 4,
   "metadata": {},
   "outputs": [
    {
     "data": {
      "text/html": [
       "\n",
       "        <table>\n",
       "            <tr>\n",
       "                <td><strong>Name</strong></td>\n",
       "                <td>COBRAModel</td>\n",
       "            </tr><tr>\n",
       "                <td><strong>Memory address</strong></td>\n",
       "                <td>7ff3f2232ea0</td>\n",
       "            </tr><tr>\n",
       "                <td><strong>Number of metabolites</strong></td>\n",
       "                <td>800</td>\n",
       "            </tr><tr>\n",
       "                <td><strong>Number of reactions</strong></td>\n",
       "                <td>992</td>\n",
       "            </tr><tr>\n",
       "                <td><strong>Number of genes</strong></td>\n",
       "                <td>595</td>\n",
       "            </tr><tr>\n",
       "                <td><strong>Number of groups</strong></td>\n",
       "                <td>55</td>\n",
       "            </tr><tr>\n",
       "                <td><strong>Objective expression</strong></td>\n",
       "                <td>1.0*BIOMASS - 1.0*BIOMASS_reverse_69053</td>\n",
       "            </tr><tr>\n",
       "                <td><strong>Compartments</strong></td>\n",
       "                <td>Cytoplasm, Extracellular, unknownCompartment2, Periplasm, unknownCompartment5</td>\n",
       "            </tr>\n",
       "          </table>"
      ],
      "text/plain": [
       "<Model COBRAModel at 0x7ff3f2232ea0>"
      ]
     },
     "execution_count": 4,
     "metadata": {},
     "output_type": "execute_result"
    }
   ],
   "source": [
    "import cobra\n",
    "\n",
    "pro = cobra.io.read_sbml_model(\"photosynthesizers/prochlorococcus_standard.xml\")\n",
    "pro"
   ]
  },
  {
   "cell_type": "code",
   "execution_count": 27,
   "metadata": {},
   "outputs": [],
   "source": [
    "import pandas as pd\n",
    "\n",
    "# Create a list to store the exchange IDs and exchange names\n",
    "exchange_data = []\n",
    "\n",
    "# Iterate over the exchange reactions in oripro\n",
    "for exchange in pro.exchanges:\n",
    "    exchange_data.append([exchange.id, exchange.name])\n",
    "\n",
    "# Create a DataFrame from the exchange data\n",
    "df_std = pd.DataFrame(exchange_data, columns=['Exchange ID', 'Exchange Name'])\n",
    "\n",
    "# Write the DataFrame to a TSV file\n",
    "df_std.to_csv('exchange_data_standard.tsv', sep='\\t', index=False)"
   ]
  },
  {
   "cell_type": "markdown",
   "metadata": {},
   "source": [
    "I removed StrontiumEX\tStrontium Exchange from the standard prochlorococcus model because strontium only participates in the biomass reaction section Bminerals. Let's make a mapping between original and standardize exchange reaction IDs. "
   ]
  },
  {
   "cell_type": "code",
   "execution_count": 43,
   "metadata": {},
   "outputs": [
    {
     "data": {
      "text/html": [
       "<div>\n",
       "<style scoped>\n",
       "    .dataframe tbody tr th:only-of-type {\n",
       "        vertical-align: middle;\n",
       "    }\n",
       "\n",
       "    .dataframe tbody tr th {\n",
       "        vertical-align: top;\n",
       "    }\n",
       "\n",
       "    .dataframe thead th {\n",
       "        text-align: right;\n",
       "    }\n",
       "</style>\n",
       "<table border=\"1\" class=\"dataframe\">\n",
       "  <thead>\n",
       "    <tr style=\"text-align: right;\">\n",
       "      <th></th>\n",
       "      <th>Original</th>\n",
       "      <th>Standard</th>\n",
       "      <th>Original_Name</th>\n",
       "      <th>Fake_Exchange</th>\n",
       "    </tr>\n",
       "  </thead>\n",
       "  <tbody>\n",
       "    <tr>\n",
       "      <th>0</th>\n",
       "      <td>AminosugarsEX</td>\n",
       "      <td>AminosugarsEX</td>\n",
       "      <td>Fake Amino Sugars Exchange</td>\n",
       "      <td>True</td>\n",
       "    </tr>\n",
       "    <tr>\n",
       "      <th>1</th>\n",
       "      <td>FAKEAAEX</td>\n",
       "      <td>FAKEAAEX</td>\n",
       "      <td>Fake Amino Acids Exchange</td>\n",
       "      <td>True</td>\n",
       "    </tr>\n",
       "    <tr>\n",
       "      <th>2</th>\n",
       "      <td>FAKEABPEX</td>\n",
       "      <td>EX_pap_e</td>\n",
       "      <td>Fake A35bp Exchange</td>\n",
       "      <td>True</td>\n",
       "    </tr>\n",
       "    <tr>\n",
       "      <th>3</th>\n",
       "      <td>FAKEacpEX</td>\n",
       "      <td>FAKEacpEX</td>\n",
       "      <td>Fake acp Exchange</td>\n",
       "      <td>True</td>\n",
       "    </tr>\n",
       "    <tr>\n",
       "      <th>4</th>\n",
       "      <td>FAKEApoacpEX</td>\n",
       "      <td>FAKEApoacpEX</td>\n",
       "      <td>Fake Apo acp Exchange</td>\n",
       "      <td>True</td>\n",
       "    </tr>\n",
       "  </tbody>\n",
       "</table>\n",
       "</div>"
      ],
      "text/plain": [
       "        Original       Standard               Original_Name  Fake_Exchange\n",
       "0  AminosugarsEX  AminosugarsEX  Fake Amino Sugars Exchange           True\n",
       "1       FAKEAAEX       FAKEAAEX   Fake Amino Acids Exchange           True\n",
       "2      FAKEABPEX       EX_pap_e         Fake A35bp Exchange           True\n",
       "3      FAKEacpEX      FAKEacpEX           Fake acp Exchange           True\n",
       "4   FAKEApoacpEX   FAKEApoacpEX       Fake Apo acp Exchange           True"
      ]
     },
     "execution_count": 43,
     "metadata": {},
     "output_type": "execute_result"
    }
   ],
   "source": [
    "import pandas as pd\n",
    "\n",
    "df = pd.concat([df_ori[\"Exchange ID\"], df_std[\"Exchange ID\"], df_ori[\"Exchange Name\"]], axis = 1)\n",
    "\n",
    "df.columns = [\"Original\", \"Standard\", \"Original_Name\"]\n",
    "df[\"Fake_Exchange\"] = df[\"Original_Name\"].apply(lambda x: True if \"fake\" in x.lower() else False)\n",
    "df.to_csv(\"exchange_id_mapping.tsv\", sep='\\t', index=False)\n",
    "df.head()"
   ]
  },
  {
   "cell_type": "code",
   "execution_count": 41,
   "metadata": {},
   "outputs": [
    {
     "data": {
      "text/html": [
       "\n",
       "        <table>\n",
       "            <tr>\n",
       "                <td><strong>Reaction identifier</strong></td><td>StrontiumEX</td>\n",
       "            </tr><tr>\n",
       "                <td><strong>Name</strong></td><td>Strontium Exchange</td>\n",
       "            </tr><tr>\n",
       "                <td><strong>Memory address</strong></td>\n",
       "                <td>0x7ff3f1d1a660</td>\n",
       "            </tr><tr>\n",
       "                <td><strong>Stoichiometry</strong></td>\n",
       "                <td>\n",
       "                    <p style='text-align:right'>Strontium_cation[e] <=></p>\n",
       "                    <p style='text-align:right'>Strontium cation <=></p>\n",
       "                </td>\n",
       "            </tr><tr>\n",
       "                <td><strong>GPR</strong></td><td></td>\n",
       "            </tr><tr>\n",
       "                <td><strong>Lower bound</strong></td><td>-1000.0</td>\n",
       "            </tr><tr>\n",
       "                <td><strong>Upper bound</strong></td><td>1000.0</td>\n",
       "            </tr>\n",
       "        </table>\n",
       "        "
      ],
      "text/plain": [
       "<Reaction StrontiumEX at 0x7ff3f1d1a660>"
      ]
     },
     "execution_count": 41,
     "metadata": {},
     "output_type": "execute_result"
    }
   ],
   "source": [
    "oripro.reactions.get_by_id(\"StrontiumEX\")"
   ]
  }
 ],
 "metadata": {
  "kernelspec": {
   "display_name": "galapagos",
   "language": "python",
   "name": "python3"
  },
  "language_info": {
   "codemirror_mode": {
    "name": "ipython",
    "version": 3
   },
   "file_extension": ".py",
   "mimetype": "text/x-python",
   "name": "python",
   "nbconvert_exporter": "python",
   "pygments_lexer": "ipython3",
   "version": "3.12.4"
  }
 },
 "nbformat": 4,
 "nbformat_minor": 2
}
